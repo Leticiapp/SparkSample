{
  "nbformat": 4,
  "nbformat_minor": 0,
  "metadata": {
    "colab": {
      "provenance": [],
      "authorship_tag": "ABX9TyPlpUdhNa/hkyDPHbeE/AAm",
      "include_colab_link": true
    },
    "kernelspec": {
      "name": "python3",
      "display_name": "Python 3"
    },
    "language_info": {
      "name": "python"
    }
  },
  "cells": [
    {
      "cell_type": "markdown",
      "metadata": {
        "id": "view-in-github",
        "colab_type": "text"
      },
      "source": [
        "<a href=\"https://colab.research.google.com/github/Leticiapp/SparkSample/blob/main/Spark_Session.ipynb\" target=\"_parent\"><img src=\"https://colab.research.google.com/assets/colab-badge.svg\" alt=\"Open In Colab\"/></a>"
      ]
    },
    {
      "cell_type": "code",
      "execution_count": 1,
      "metadata": {
        "colab": {
          "base_uri": "https://localhost:8080/"
        },
        "id": "PhlpNW8ijPCu",
        "outputId": "79a44e80-6765-488a-a69c-ac873fae818f"
      },
      "outputs": [
        {
          "output_type": "stream",
          "name": "stdout",
          "text": [
            "\u001b[2K     \u001b[90m━━━━━━━━━━━━━━━━━━━━━━━━━━━━━━━━━━━━━━━━\u001b[0m \u001b[32m317.0/317.0 MB\u001b[0m \u001b[31m2.8 MB/s\u001b[0m eta \u001b[36m0:00:00\u001b[0m\n",
            "\u001b[?25h  Preparing metadata (setup.py) ... \u001b[?25l\u001b[?25hdone\n",
            "  Building wheel for pyspark (setup.py) ... \u001b[?25l\u001b[?25hdone\n"
          ]
        }
      ],
      "source": [
        "!pip install pyspark --quiet"
      ]
    },
    {
      "cell_type": "code",
      "source": [
        "from pyspark import SparkContext, SparkConf\n",
        "from pyspark.sql import SparkSession\n",
        "\n",
        "spark = SparkSession.builder.master(\"local[*]\").getOrCreate()\n",
        "\n",
        "conf = SparkConf().set('spark.ui.port', '4050').setAppName(\"twitter\").setMaster(\"local[*]\")\n",
        "sc = SparkContext.getOrCreate(conf=conf)"
      ],
      "metadata": {
        "id": "ETIa5TINj2Om"
      },
      "execution_count": 4,
      "outputs": []
    },
    {
      "cell_type": "code",
      "source": [
        "import requests\n",
        "\n",
        "url = \"https://raw.githubusercontent.com/Leticiapp/SparkSample/main/data/tweets.csv\"\n",
        "\n",
        "response = requests.get(url)\n",
        "open('tweets.csv', 'wb').write(response.content)\n",
        "\n",
        "df = spark.read.option(\"inferSchema\", True).option(\"header\", True).csv('tweets.csv')\n",
        "df.printSchema()"
      ],
      "metadata": {
        "colab": {
          "base_uri": "https://localhost:8080/"
        },
        "id": "Tj_l5AuYnPKv",
        "outputId": "5facd38e-8bd2-4925-bea7-f9ba5064e4b4"
      },
      "execution_count": 9,
      "outputs": [
        {
          "output_type": "stream",
          "name": "stdout",
          "text": [
            "root\n",
            " |-- ItemID: integer (nullable = true)\n",
            " |-- Sentiment: string (nullable = true)\n",
            " |-- SentimentSource: string (nullable = true)\n",
            " |-- SentimentText: string (nullable = true)\n",
            "\n"
          ]
        }
      ]
    },
    {
      "cell_type": "code",
      "source": [
        "df.write.saveAsTable('tweets')"
      ],
      "metadata": {
        "id": "orDpdN5uo9KL"
      },
      "execution_count": 10,
      "outputs": []
    },
    {
      "cell_type": "code",
      "source": [
        "spark.sql(\"select Sentiment, count(*) from tweets group by Sentiment\").show()"
      ],
      "metadata": {
        "colab": {
          "base_uri": "https://localhost:8080/"
        },
        "id": "ubyXtV7bpDlz",
        "outputId": "2b27ddf2-478f-4bd0-a62d-d32e65f50ffe"
      },
      "execution_count": 11,
      "outputs": [
        {
          "output_type": "stream",
          "name": "stdout",
          "text": [
            "+---------+--------+\n",
            "|Sentiment|count(1)|\n",
            "+---------+--------+\n",
            "|      pos|   26921|\n",
            "|        0|       2|\n",
            "|      neg|   23079|\n",
            "+---------+--------+\n",
            "\n"
          ]
        }
      ]
    },
    {
      "cell_type": "code",
      "source": [
        "from pyspark.sql import HiveContext\n",
        "\n",
        "hiveContext = HiveContext(sc)\n",
        "hiveQuery = \"select SentimentText from tweets where Sentiment='pos';\"\n",
        "dfPos = df = hiveContext.sql(hiveQuery)\n",
        "rddPos = dfPos.rdd"
      ],
      "metadata": {
        "colab": {
          "base_uri": "https://localhost:8080/"
        },
        "id": "6ZZ3zoynpYtL",
        "outputId": "36c14d2c-55b8-4559-ae6b-5458226cbdb4"
      },
      "execution_count": 12,
      "outputs": [
        {
          "output_type": "stream",
          "name": "stderr",
          "text": [
            "/usr/local/lib/python3.10/dist-packages/pyspark/sql/context.py:733: FutureWarning: HiveContext is deprecated in Spark 2.0.0. Please use SparkSession.builder.enableHiveSupport().getOrCreate() instead.\n",
            "  warnings.warn(\n",
            "/usr/local/lib/python3.10/dist-packages/pyspark/sql/context.py:113: FutureWarning: Deprecated in 3.0.0. Use SparkSession.builder.getOrCreate() instead.\n",
            "  warnings.warn(\n"
          ]
        }
      ]
    },
    {
      "cell_type": "code",
      "source": [
        "stopWords = ['i', 'me', 'my', 'myself', 'we', 'get', 'this', 'do', 'up', 'our', 'ours', 'ourselves', 'you', 'your', 'yours', 'yourself', 'yourselves', 'he', 'him', 'his', 'she', 'her', 'the', 'to', 'a', 'and', 'it', 'for', 'is', 'in', 'with', 'was', 'u', 'will', 'not', 'all', 'at', 'of', 'that', 'on', 'have', 'so', 'be', 'just', 'are', 'but']"
      ],
      "metadata": {
        "id": "6ZZEWCjSqvlA"
      },
      "execution_count": 29,
      "outputs": []
    },
    {
      "cell_type": "code",
      "source": [
        "contadorPalavras = rddPos.map(lambda x:x.SentimentText.replace(',','').replace('.','').replace('-','').lower()) \\\n",
        ".flatMap(lambda x: x.split()) \\\n",
        ".filter(lambda x: x not in stopWords) \\\n",
        ".map(lambda x: (x, 1)) \\\n",
        ".reduceByKey(lambda x, y: x + y) \\\n",
        ".map(lambda x: (x[1], x[0])) \\\n",
        ".sortByKey(False)"
      ],
      "metadata": {
        "id": "wMwiyxkGrbDe"
      },
      "execution_count": 31,
      "outputs": []
    },
    {
      "cell_type": "code",
      "source": [
        "contadorPalavras.take(10)"
      ],
      "metadata": {
        "colab": {
          "base_uri": "https://localhost:8080/"
        },
        "id": "fCZ4W3irte0G",
        "outputId": "de10f528-c7ad-4a3c-c5f7-184ff5229f11"
      },
      "execution_count": 32,
      "outputs": [
        {
          "output_type": "execute_result",
          "data": {
            "text/plain": [
              "[(1802, 'good'),\n",
              " (1793, \"i'm\"),\n",
              " (1633, 'love'),\n",
              " (1408, 'like'),\n",
              " (1216, 'thanks'),\n",
              " (1166, 'lol'),\n",
              " (1092, \"it's\"),\n",
              " (1026, 'can'),\n",
              " (1024, 'know'),\n",
              " (1007, 'now')]"
            ]
          },
          "metadata": {},
          "execution_count": 32
        }
      ]
    }
  ]
}